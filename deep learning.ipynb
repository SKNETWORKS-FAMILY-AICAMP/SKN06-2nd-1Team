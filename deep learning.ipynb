{
 "cells": [
  {
   "cell_type": "code",
   "execution_count": 1,
   "id": "5c6e7341-8f81-4efe-9f1e-42df6066e35e",
   "metadata": {},
   "outputs": [],
   "source": [
    "import pandas as pd\n",
    "import numpy as np\n",
    "import torch\n",
    "import torch.nn as nn\n",
    "import torch.optim as optim\n",
    "from torch.utils.data import DataLoader, TensorDataset\n",
    "from sklearn.model_selection import train_test_split\n",
    "from sklearn.preprocessing import StandardScaler\n",
    "from sklearn.metrics import classification_report\n",
    "from torchinfo import summary\n",
    "import matplotlib.pyplot as plt"
   ]
  },
  {
   "cell_type": "code",
   "execution_count": 2,
   "id": "e9ce9b40-9411-4b7c-9237-0d3971c63464",
   "metadata": {},
   "outputs": [
    {
     "data": {
      "text/plain": [
       "'2.5.1+cpu'"
      ]
     },
     "execution_count": 2,
     "metadata": {},
     "output_type": "execute_result"
    }
   ],
   "source": [
    "torch.__version__"
   ]
  },
  {
   "cell_type": "code",
   "execution_count": 3,
   "id": "25904f3b-6e34-4972-8660-4903fb05fd9f",
   "metadata": {},
   "outputs": [],
   "source": [
    "df = pd.read_csv(\"data/gym_churn_us.csv\")"
   ]
  },
  {
   "cell_type": "code",
   "execution_count": 4,
   "id": "093ebe4e-ee3a-4dbe-95d4-daca8270c635",
   "metadata": {},
   "outputs": [],
   "source": [
    "X = df.drop('Churn', axis=1)\n",
    "y = df['Churn']\n",
    "\n",
    "X_train, X_valid, y_train, y_valid = train_test_split(X, y, test_size=0.2, random_state=42)"
   ]
  },
  {
   "cell_type": "code",
   "execution_count": 5,
   "id": "7e8e3809-6700-44df-99b7-03b419fbe374",
   "metadata": {},
   "outputs": [
    {
     "data": {
      "text/plain": [
       "((3200, 13), (800, 13), (3200,), (800,))"
      ]
     },
     "execution_count": 5,
     "metadata": {},
     "output_type": "execute_result"
    }
   ],
   "source": [
    "X_train.shape, X_valid.shape,y_train.shape, y_valid.shape"
   ]
  },
  {
   "cell_type": "code",
   "execution_count": 6,
   "id": "567e667d-14b1-4e2f-bf92-37dcecbaf05e",
   "metadata": {},
   "outputs": [],
   "source": [
    "scaler = StandardScaler()\n",
    "X_train = scaler.fit_transform(X_train)\n",
    "X_valid = scaler.transform(X_valid)"
   ]
  },
  {
   "cell_type": "code",
   "execution_count": 7,
   "id": "08ec13c5-988a-436d-8a12-5c220cb07be9",
   "metadata": {},
   "outputs": [],
   "source": [
    "# 텐서로 변환\n",
    "X_train = torch.tensor(X_train, dtype=torch.float32)\n",
    "X_valid = torch.tensor(X_valid, dtype=torch.float32)\n",
    "y_train = torch.tensor(y_train, dtype=torch.float32).view(-1, 1)\n",
    "y_valid = torch.tensor(y_valid.values, dtype=torch.float32).view(-1, 1)"
   ]
  },
  {
   "cell_type": "code",
   "execution_count": 8,
   "id": "954137f6-545d-420c-ad8d-e1a6c251db57",
   "metadata": {},
   "outputs": [
    {
     "name": "stdout",
     "output_type": "stream",
     "text": [
      "torch.Size([3200, 13]) torch.Size([3200, 1])\n",
      "torch.float32 torch.float32\n"
     ]
    },
    {
     "data": {
      "text/plain": [
       "'torch.FloatTensor'"
      ]
     },
     "execution_count": 8,
     "metadata": {},
     "output_type": "execute_result"
    }
   ],
   "source": [
    "print(X_train.shape, y_train.size())\n",
    "print(X_train.dtype, y_train.dtype)\n",
    "X_train.type()"
   ]
  },
  {
   "cell_type": "code",
   "execution_count": 9,
   "id": "3e54fa56-7dc4-48e3-9224-a3c8c6f7bbc8",
   "metadata": {},
   "outputs": [
    {
     "name": "stdout",
     "output_type": "stream",
     "text": [
      "cpu\n"
     ]
    }
   ],
   "source": [
    "device = \"cuda\" if torch.cuda.is_available() else \"cpu\"\n",
    "print(device)"
   ]
  },
  {
   "cell_type": "code",
   "execution_count": 10,
   "id": "a02eb8e6-4f26-44dd-9b68-058c219334eb",
   "metadata": {},
   "outputs": [],
   "source": [
    "epochs = 100\n",
    "batch_size = 128\n",
    "lr = 0.001"
   ]
  },
  {
   "cell_type": "code",
   "execution_count": 11,
   "id": "c0ed2a59-ec55-4154-847b-abbcbacdb283",
   "metadata": {},
   "outputs": [],
   "source": [
    "trainset = TensorDataset(X_train, y_train)\n",
    "validset = TensorDataset(X_valid, y_valid)\n",
    "\n",
    "train_loader = DataLoader(trainset, batch_size=32, shuffle=True)\n",
    "valid_loader = DataLoader(validset, batch_size=32, shuffle=False)"
   ]
  },
  {
   "cell_type": "code",
   "execution_count": 12,
   "id": "e35fdf47-55aa-4326-9e55-ffca7011b5ed",
   "metadata": {},
   "outputs": [],
   "source": [
    "import torch\n",
    "import time\n",
    "\n",
    "def test_multi_classification(dataloader, model, loss_fn, device=\"cpu\") -> tuple:\n",
    "    \"\"\"\n",
    "    다중 분류 검증/평가 함수\n",
    "    \n",
    "    [parameter]\n",
    "        dataloader: DataLoader - 검증할 대상 데이터로더\n",
    "        model: 검증할 모델\n",
    "        loss_fn: 모델 추정값과 정답의 차이를 계산할 loss 함수.\n",
    "        device: str - 연산을 처리할 장치. default-\"cpu\", gpu-\"cuda\"\n",
    "    [return]\n",
    "        tuple: (loss, accuracy)\n",
    "    \"\"\"\n",
    "    model.to(device)\n",
    "    model.eval() \n",
    "    size = len(dataloader.dataset)\n",
    "    num_steps = len(dataloader)\n",
    "    \n",
    "    test_loss, test_accuracy = 0., 0.\n",
    "    \n",
    "    with torch.no_grad():\n",
    "        for X, y in dataloader:\n",
    "            X, y = X.to(device), y.to(device)\n",
    "            pred = model(X)\n",
    "            test_loss += loss_fn(pred, y).item()\n",
    "            # 정확도 계산\n",
    "            pred_label = torch.argmax(pred, axis=-1)\n",
    "            test_accuracy += torch.sum(pred_label == y).item()\n",
    "            \n",
    "        test_loss /= num_steps\n",
    "        test_accuracy /= size\n",
    "    return test_loss, test_accuracy\n",
    "\n",
    "def test_binary_classification(dataloader, model, loss_fn, device=\"cpu\") -> tuple:\n",
    "    \"\"\"\n",
    "    이진 분류 검증/평가 함수\n",
    "    \n",
    "    [parameter]\n",
    "        dataloader: DataLoader - 검증할 대상 데이터로더\n",
    "        model: 검증할 모델\n",
    "        loss_fn: 모델 추정값과 정답의 차이를 계산할 loss 함수.\n",
    "        device: str - 연산을 처리할 장치. default-\"cpu\", gpu-\"cuda\"\n",
    "    [return]\n",
    "        tuple: (loss, accuracy)\n",
    "    \"\"\"\n",
    "    model.to(device)\n",
    "    model.eval() # 모델을 평가모드로 변환\n",
    "    size = len(dataloader.dataset)\n",
    "    num_steps = len(dataloader)\n",
    "    \n",
    "    test_loss, test_accuracy = 0., 0.\n",
    "    \n",
    "    with torch.no_grad():\n",
    "        for X, y in dataloader:\n",
    "            X, y = X.to(device), y.to(device)\n",
    "            pred = model(X)\n",
    "            test_loss += loss_fn(pred, y).item()\n",
    "            ## 정확도 계산\n",
    "            pred_label = (pred >= 0.5).type(torch.int32)\n",
    "            test_accuracy += (pred_label == y).sum().item() \n",
    "            \n",
    "        test_loss /= num_steps\n",
    "        test_accuracy /= size   #전체 개수로 나눈다.\n",
    "    return test_loss, test_accuracy    \n",
    "\n",
    "def train(dataloader, model, loss_fn, optimizer, device=\"cpu\", mode:\"binary or multi\"='binary'):\n",
    "    \"\"\"\n",
    "    모델을 1 epoch 학습시키는 함수\n",
    "\n",
    "    [parameter]\n",
    "        dataloader: DataLoader - 학습데이터셋을 제공하는 DataLoader\n",
    "        model - 학습대상 모델\n",
    "        loss_fn: 모델 추정값과 정답의 차이를 계산할 loss 함수.\n",
    "        optimizer - 최적화 함수\n",
    "        device: str - 연산을 처리할 장치. default-\"cpu\", gpu-\"cuda\"\n",
    "        mode: str - 분류 종류. binary 또는 multi\n",
    "    [return]\n",
    "        tuple: 학습후 계산한 Train set에 대한  train_loss, train_accuracy\n",
    "    \"\"\"\n",
    "    model.train()\n",
    "    size = len(dataloader.dataset) \n",
    "\n",
    "    for X, y in dataloader:\n",
    "        X, y = X.to(device), y.to(device)\n",
    "        pred = model(X)\n",
    "\n",
    "        loss = loss_fn(pred, y)\n",
    "\n",
    "        optimizer.zero_grad()\n",
    "        loss.backward()\n",
    "        optimizer.step()\n",
    "        \n",
    "    if mode == 'binary':\n",
    "        train_loss, train_accuracy = test_binary_classification(dataloader, model, loss_fn, device)\n",
    "    else:\n",
    "        train_loss, train_accuracy = test_multi_classification(dataloader, model, loss_fn, device)\n",
    "    return train_loss, train_accuracy\n",
    "\n",
    "\n",
    "\n",
    "def fit(train_loader, val_loader, model, loss_fn, optimizer, epochs, save_best_model=True, \n",
    "        save_model_path=None, early_stopping=True, patience=10, device='cpu',  mode:\"binary or multi\"='binary',\n",
    "        lr_scheduler=None):\n",
    "    \"\"\"\n",
    "    모델을 학습시키는 함수\n",
    "\n",
    "    [parameter]\n",
    "        train_loader (Dataloader): Train dataloader\n",
    "        test_loader (Dataloader): validation dataloader\n",
    "        model (Module): 학습시킬 모델\n",
    "        loss_fn (_Loss): Loss function\n",
    "        optimizer (Optimizer): Optimizer\n",
    "        epochs (int): epoch수\n",
    "        save_best_model (bool, optional): 학습도중 성능개선시 모델 저장 여부. Defaults to True.\n",
    "        save_model_path (str, optional): save_best_model=True일 때 모델저장할 파일 경로. Defaults to None.\n",
    "        early_stopping (bool, optional): 조기 종료 여부. Defaults to True.\n",
    "        patience (int, optional): 조기종료 True일 때 종료전에 성능이 개선될지 몇 epoch까지 기다릴지 epoch수. Defaults to 10.\n",
    "        device (str, optional): device. Defaults to 'cpu'.\n",
    "        mode(str, optinal): 분류 종류. \"binary(default) or multi\n",
    "        lr_scheduler: Learning Rate Scheduler 객체. default: None, Epoch 단위로 LR 를 변경.\n",
    "    [return]\n",
    "        tuple: 에폭 별 성능 리스트. (train_loss_list, train_accuracy_list, validation_loss_list, validataion_accuracy_list)\n",
    "    \"\"\"\n",
    "\n",
    "    train_loss_list = []\n",
    "    train_accuracy_list = []\n",
    "    val_loss_list = []\n",
    "    val_accuracy_list = []\n",
    "    \n",
    "        \n",
    "    if save_best_model:\n",
    "        best_score_save = torch.inf\n",
    "\n",
    "    ############################\n",
    "    # early stopping\n",
    "    #############################\n",
    "    if early_stopping:\n",
    "        trigger_count = 0\n",
    "        best_score_es = torch.inf\n",
    "    \n",
    "    # 모델 device로 옮기기\n",
    "    model = model.to(device)\n",
    "    s = time.time()\n",
    "    for epoch in range(epochs):\n",
    "        train_loss, train_accuracy = train(train_loader, model, loss_fn, optimizer, device=device, mode=mode)\n",
    "        ############ 1 epoch 학습 종료 -> LR 를 변경 ###########\n",
    "        if lr_scheduler is not None:\n",
    "            current_lr = lr_scheduler.get_last_lr()[0]  # log용\n",
    "            lr_scheduler.step()\n",
    "            new_lr = lr_scheduler.get_last_lr()[0] # log용\n",
    "            if current_lr != new_lr: # LR가 변경되었으면\n",
    "                print(f\">>>>>>Learning Rate가 {current_lr}에서 {new_lr}로 변경됨<<<<<<\")\n",
    "\n",
    "        \n",
    "        if mode == \"binary\":\n",
    "            val_loss, val_accuracy = test_binary_classification(val_loader, model, loss_fn, device=device)\n",
    "        else:\n",
    "            val_loss, val_accuracy = test_multi_classification(val_loader, model, loss_fn, device=device)\n",
    "\n",
    "        train_loss_list.append(train_loss)\n",
    "        train_accuracy_list.append(train_accuracy)\n",
    "        val_loss_list.append(val_loss)\n",
    "        val_accuracy_list.append(val_accuracy)\n",
    "        \n",
    "        print(f\"Epoch[{epoch+1}/{epochs}] - Train loss: {train_loss:.5f} Train Accucracy: {train_accuracy:.5f} || Validation Loss: {val_loss:.5f} Validation Accuracy: {val_accuracy:.5f}\")\n",
    "        print('='*100)\n",
    "        \n",
    "        # 모델 저장\n",
    "        if save_best_model:\n",
    "            if val_loss < best_score_save:\n",
    "                torch.save(model, save_model_path)\n",
    "                print(f\"저장: {epoch+1} - 이전 : {best_score_save}, 현재: {val_loss}\")\n",
    "                best_score_save = val_loss\n",
    "        \n",
    "        # early stopping 처리            \n",
    "        if early_stopping:\n",
    "            if val_loss < best_score_es: \n",
    "                best_score_es = val_loss  \n",
    "                trigger_count = 0\n",
    "                                \n",
    "            else:\n",
    "                trigger_count += 1                \n",
    "                if patience == trigger_count:\n",
    "                    print(f\"Early stopping: Epoch - {epoch}\")\n",
    "                    break\n",
    "            \n",
    "    e = time.time()\n",
    "    print(e-s, \"초\")\n",
    "    return train_loss_list, train_accuracy_list, val_loss_list, val_accuracy_list"
   ]
  },
  {
   "cell_type": "code",
   "execution_count": 13,
   "id": "6ec8008c-9e7d-49d1-812d-b77e5e871dfe",
   "metadata": {},
   "outputs": [],
   "source": [
    "class DropoutModel(nn.Module):\n",
    "\n",
    "    def __init__(self, dropout_rate=0.5):\n",
    "        super().__init__()\n",
    "        self.lr1 = nn.Sequential(nn.Linear(13, 128), nn.ReLU(), nn.Dropout(p=dropout_rate))\n",
    "        self.lr2 = nn.Sequential(nn.Linear(128, 64), nn.ReLU(), nn.Dropout(p=dropout_rate))\n",
    "        self.lr3 = nn.Sequential(nn.Linear(64, 32), nn.ReLU(), nn.Dropout(p=dropout_rate))\n",
    "        self.lr4 = nn.Sequential(nn.Linear(32,16), nn.ReLU(), nn.Dropout(p=dropout_rate))\n",
    "        self.out_block = nn.Linear(16, 1)\n",
    "    \n",
    "    def forward(self, X):\n",
    "        X = nn.Flatten()(X)\n",
    "        X = self.lr1(X)\n",
    "        X = self.lr2(X)\n",
    "        X = self.lr3(X)\n",
    "        X = self.lr4(X)\n",
    "        output = self.out_block(X)\n",
    "        return output    "
   ]
  },
  {
   "cell_type": "code",
   "execution_count": 14,
   "id": "832ad406-5014-4d5a-bc36-96f123b61131",
   "metadata": {},
   "outputs": [
    {
     "data": {
      "text/plain": [
       "==========================================================================================\n",
       "Layer (type:depth-idx)                   Output Shape              Param #\n",
       "==========================================================================================\n",
       "DropoutModel                             [10, 1]                   --\n",
       "├─Sequential: 1-1                        [10, 128]                 --\n",
       "│    └─Linear: 2-1                       [10, 128]                 1,792\n",
       "│    └─ReLU: 2-2                         [10, 128]                 --\n",
       "│    └─Dropout: 2-3                      [10, 128]                 --\n",
       "├─Sequential: 1-2                        [10, 64]                  --\n",
       "│    └─Linear: 2-4                       [10, 64]                  8,256\n",
       "│    └─ReLU: 2-5                         [10, 64]                  --\n",
       "│    └─Dropout: 2-6                      [10, 64]                  --\n",
       "├─Sequential: 1-3                        [10, 32]                  --\n",
       "│    └─Linear: 2-7                       [10, 32]                  2,080\n",
       "│    └─ReLU: 2-8                         [10, 32]                  --\n",
       "│    └─Dropout: 2-9                      [10, 32]                  --\n",
       "├─Sequential: 1-4                        [10, 16]                  --\n",
       "│    └─Linear: 2-10                      [10, 16]                  528\n",
       "│    └─ReLU: 2-11                        [10, 16]                  --\n",
       "│    └─Dropout: 2-12                     [10, 16]                  --\n",
       "├─Linear: 1-5                            [10, 1]                   17\n",
       "==========================================================================================\n",
       "Total params: 12,673\n",
       "Trainable params: 12,673\n",
       "Non-trainable params: 0\n",
       "Total mult-adds (Units.MEGABYTES): 0.13\n",
       "==========================================================================================\n",
       "Input size (MB): 0.00\n",
       "Forward/backward pass size (MB): 0.02\n",
       "Params size (MB): 0.05\n",
       "Estimated Total Size (MB): 0.07\n",
       "=========================================================================================="
      ]
     },
     "execution_count": 14,
     "metadata": {},
     "output_type": "execute_result"
    }
   ],
   "source": [
    "dout_model = DropoutModel().to(device)\n",
    "summary(dout_model, (10, 13), device=device)"
   ]
  },
  {
   "cell_type": "code",
   "execution_count": 15,
   "id": "e42441c7-254e-4b18-a551-9ea3ca551d1a",
   "metadata": {},
   "outputs": [],
   "source": [
    "loss_fn =nn.BCEWithLogitsLoss()\n",
    "optimizer = torch.optim.Adam(dout_model.parameters(), lr=lr)"
   ]
  },
  {
   "cell_type": "code",
   "execution_count": 16,
   "id": "80e3adb9-1191-43a2-8145-22decfb0e7ea",
   "metadata": {},
   "outputs": [
    {
     "name": "stdout",
     "output_type": "stream",
     "text": [
      "Epoch[1/100] - Train loss: 0.35067 Train Accucracy: 0.73156 || Validation Loss: 0.34322 Validation Accuracy: 0.74750\n",
      "====================================================================================================\n",
      "저장: 1 - 이전 : inf, 현재: 0.34321566700935363\n",
      "Epoch[2/100] - Train loss: 0.23845 Train Accucracy: 0.91469 || Validation Loss: 0.24740 Validation Accuracy: 0.90250\n",
      "====================================================================================================\n",
      "저장: 2 - 이전 : 0.34321566700935363, 현재: 0.24739907622337343\n",
      "Epoch[3/100] - Train loss: 0.20714 Train Accucracy: 0.92063 || Validation Loss: 0.22311 Validation Accuracy: 0.89750\n",
      "====================================================================================================\n",
      "저장: 3 - 이전 : 0.24739907622337343, 현재: 0.22311059027910232\n",
      "Epoch[4/100] - Train loss: 0.19486 Train Accucracy: 0.92719 || Validation Loss: 0.21753 Validation Accuracy: 0.90000\n",
      "====================================================================================================\n",
      "저장: 4 - 이전 : 0.22311059027910232, 현재: 0.2175266534090042\n",
      "Epoch[5/100] - Train loss: 0.18051 Train Accucracy: 0.93094 || Validation Loss: 0.20624 Validation Accuracy: 0.90250\n",
      "====================================================================================================\n",
      "저장: 5 - 이전 : 0.2175266534090042, 현재: 0.20623838573694228\n",
      "Epoch[6/100] - Train loss: 0.17192 Train Accucracy: 0.93219 || Validation Loss: 0.20355 Validation Accuracy: 0.91000\n",
      "====================================================================================================\n",
      "저장: 6 - 이전 : 0.20623838573694228, 현재: 0.20354542255401611\n",
      "Epoch[7/100] - Train loss: 0.16709 Train Accucracy: 0.93406 || Validation Loss: 0.20265 Validation Accuracy: 0.89875\n",
      "====================================================================================================\n",
      "저장: 7 - 이전 : 0.20354542255401611, 현재: 0.20264624565839767\n",
      "Epoch[8/100] - Train loss: 0.16581 Train Accucracy: 0.93594 || Validation Loss: 0.19538 Validation Accuracy: 0.90750\n",
      "====================================================================================================\n",
      "저장: 8 - 이전 : 0.20264624565839767, 현재: 0.1953772261738777\n",
      "Epoch[9/100] - Train loss: 0.16190 Train Accucracy: 0.93688 || Validation Loss: 0.19369 Validation Accuracy: 0.91250\n",
      "====================================================================================================\n",
      "저장: 9 - 이전 : 0.1953772261738777, 현재: 0.1936917658150196\n",
      "Epoch[10/100] - Train loss: 0.15936 Train Accucracy: 0.93844 || Validation Loss: 0.19569 Validation Accuracy: 0.90875\n",
      "====================================================================================================\n",
      "Epoch[11/100] - Train loss: 0.15598 Train Accucracy: 0.93844 || Validation Loss: 0.19844 Validation Accuracy: 0.90750\n",
      "====================================================================================================\n",
      "Epoch[12/100] - Train loss: 0.15909 Train Accucracy: 0.94094 || Validation Loss: 0.20469 Validation Accuracy: 0.90750\n",
      "====================================================================================================\n",
      "Epoch[13/100] - Train loss: 0.15398 Train Accucracy: 0.93188 || Validation Loss: 0.19388 Validation Accuracy: 0.91375\n",
      "====================================================================================================\n",
      "Epoch[14/100] - Train loss: 0.14991 Train Accucracy: 0.93531 || Validation Loss: 0.18504 Validation Accuracy: 0.91875\n",
      "====================================================================================================\n",
      "저장: 14 - 이전 : 0.1936917658150196, 현재: 0.1850397539138794\n",
      "Epoch[15/100] - Train loss: 0.14768 Train Accucracy: 0.93750 || Validation Loss: 0.18826 Validation Accuracy: 0.91125\n",
      "====================================================================================================\n",
      "Epoch[16/100] - Train loss: 0.14530 Train Accucracy: 0.94063 || Validation Loss: 0.19121 Validation Accuracy: 0.91250\n",
      "====================================================================================================\n",
      "Epoch[17/100] - Train loss: 0.14378 Train Accucracy: 0.94031 || Validation Loss: 0.18751 Validation Accuracy: 0.91250\n",
      "====================================================================================================\n",
      "Epoch[18/100] - Train loss: 0.14131 Train Accucracy: 0.94281 || Validation Loss: 0.18873 Validation Accuracy: 0.91000\n",
      "====================================================================================================\n",
      "Epoch[19/100] - Train loss: 0.13688 Train Accucracy: 0.94250 || Validation Loss: 0.18644 Validation Accuracy: 0.91375\n",
      "====================================================================================================\n",
      "Epoch[20/100] - Train loss: 0.13571 Train Accucracy: 0.94063 || Validation Loss: 0.18861 Validation Accuracy: 0.91250\n",
      "====================================================================================================\n",
      "Epoch[21/100] - Train loss: 0.13514 Train Accucracy: 0.94188 || Validation Loss: 0.17964 Validation Accuracy: 0.91250\n",
      "====================================================================================================\n",
      "저장: 21 - 이전 : 0.1850397539138794, 현재: 0.1796350073814392\n",
      "Epoch[22/100] - Train loss: 0.13213 Train Accucracy: 0.94375 || Validation Loss: 0.17925 Validation Accuracy: 0.91750\n",
      "====================================================================================================\n",
      "저장: 22 - 이전 : 0.1796350073814392, 현재: 0.17925106897950172\n",
      "Epoch[23/100] - Train loss: 0.13078 Train Accucracy: 0.94656 || Validation Loss: 0.18697 Validation Accuracy: 0.91875\n",
      "====================================================================================================\n",
      "Epoch[24/100] - Train loss: 0.13017 Train Accucracy: 0.94594 || Validation Loss: 0.18498 Validation Accuracy: 0.91875\n",
      "====================================================================================================\n",
      "Epoch[25/100] - Train loss: 0.12860 Train Accucracy: 0.94375 || Validation Loss: 0.17958 Validation Accuracy: 0.91625\n",
      "====================================================================================================\n",
      "Epoch[26/100] - Train loss: 0.12544 Train Accucracy: 0.94688 || Validation Loss: 0.17994 Validation Accuracy: 0.91875\n",
      "====================================================================================================\n",
      "Epoch[27/100] - Train loss: 0.12357 Train Accucracy: 0.94500 || Validation Loss: 0.17890 Validation Accuracy: 0.91875\n",
      "====================================================================================================\n",
      "저장: 27 - 이전 : 0.17925106897950172, 현재: 0.17889681309461594\n",
      "Epoch[28/100] - Train loss: 0.12519 Train Accucracy: 0.94594 || Validation Loss: 0.17520 Validation Accuracy: 0.91875\n",
      "====================================================================================================\n",
      "저장: 28 - 이전 : 0.17889681309461594, 현재: 0.17519549176096916\n",
      "Epoch[29/100] - Train loss: 0.12076 Train Accucracy: 0.94500 || Validation Loss: 0.17152 Validation Accuracy: 0.92125\n",
      "====================================================================================================\n",
      "저장: 29 - 이전 : 0.17519549176096916, 현재: 0.17152095660567285\n",
      "Epoch[30/100] - Train loss: 0.11815 Train Accucracy: 0.94812 || Validation Loss: 0.17499 Validation Accuracy: 0.92625\n",
      "====================================================================================================\n",
      "Epoch[31/100] - Train loss: 0.11863 Train Accucracy: 0.94844 || Validation Loss: 0.16893 Validation Accuracy: 0.92500\n",
      "====================================================================================================\n",
      "저장: 31 - 이전 : 0.17152095660567285, 현재: 0.16893445894122125\n",
      "Epoch[32/100] - Train loss: 0.11500 Train Accucracy: 0.94906 || Validation Loss: 0.17759 Validation Accuracy: 0.92500\n",
      "====================================================================================================\n",
      "Epoch[33/100] - Train loss: 0.11429 Train Accucracy: 0.94969 || Validation Loss: 0.16790 Validation Accuracy: 0.92875\n",
      "====================================================================================================\n",
      "저장: 33 - 이전 : 0.16893445894122125, 현재: 0.1679023640602827\n",
      "Epoch[34/100] - Train loss: 0.11173 Train Accucracy: 0.95281 || Validation Loss: 0.17990 Validation Accuracy: 0.92750\n",
      "====================================================================================================\n",
      "Epoch[35/100] - Train loss: 0.11433 Train Accucracy: 0.95156 || Validation Loss: 0.17339 Validation Accuracy: 0.92500\n",
      "====================================================================================================\n",
      "Epoch[36/100] - Train loss: 0.11272 Train Accucracy: 0.94969 || Validation Loss: 0.18013 Validation Accuracy: 0.92125\n",
      "====================================================================================================\n",
      "Epoch[37/100] - Train loss: 0.10739 Train Accucracy: 0.95156 || Validation Loss: 0.17355 Validation Accuracy: 0.92625\n",
      "====================================================================================================\n",
      "Epoch[38/100] - Train loss: 0.10597 Train Accucracy: 0.95594 || Validation Loss: 0.17028 Validation Accuracy: 0.93250\n",
      "====================================================================================================\n",
      "Epoch[39/100] - Train loss: 0.10412 Train Accucracy: 0.95625 || Validation Loss: 0.16707 Validation Accuracy: 0.93250\n",
      "====================================================================================================\n",
      "저장: 39 - 이전 : 0.1679023640602827, 현재: 0.16706857092678548\n",
      "Epoch[40/100] - Train loss: 0.10074 Train Accucracy: 0.96000 || Validation Loss: 0.17209 Validation Accuracy: 0.92875\n",
      "====================================================================================================\n",
      "Epoch[41/100] - Train loss: 0.09900 Train Accucracy: 0.96094 || Validation Loss: 0.17769 Validation Accuracy: 0.93250\n",
      "====================================================================================================\n",
      "Epoch[42/100] - Train loss: 0.09960 Train Accucracy: 0.96000 || Validation Loss: 0.17724 Validation Accuracy: 0.93875\n",
      "====================================================================================================\n",
      "Epoch[43/100] - Train loss: 0.09791 Train Accucracy: 0.95937 || Validation Loss: 0.17045 Validation Accuracy: 0.93375\n",
      "====================================================================================================\n",
      "Epoch[44/100] - Train loss: 0.09623 Train Accucracy: 0.96031 || Validation Loss: 0.17273 Validation Accuracy: 0.93000\n",
      "====================================================================================================\n",
      "Epoch[45/100] - Train loss: 0.09685 Train Accucracy: 0.95875 || Validation Loss: 0.16387 Validation Accuracy: 0.93500\n",
      "====================================================================================================\n",
      "저장: 45 - 이전 : 0.16706857092678548, 현재: 0.16387330308556558\n",
      "Epoch[46/100] - Train loss: 0.09841 Train Accucracy: 0.95562 || Validation Loss: 0.16933 Validation Accuracy: 0.92750\n",
      "====================================================================================================\n",
      "Epoch[47/100] - Train loss: 0.09604 Train Accucracy: 0.95688 || Validation Loss: 0.15831 Validation Accuracy: 0.93500\n",
      "====================================================================================================\n",
      "저장: 47 - 이전 : 0.16387330308556558, 현재: 0.15830523289740087\n",
      "Epoch[48/100] - Train loss: 0.09160 Train Accucracy: 0.96156 || Validation Loss: 0.16389 Validation Accuracy: 0.93625\n",
      "====================================================================================================\n",
      "Epoch[49/100] - Train loss: 0.09205 Train Accucracy: 0.96062 || Validation Loss: 0.16482 Validation Accuracy: 0.93500\n",
      "====================================================================================================\n",
      "Epoch[50/100] - Train loss: 0.08930 Train Accucracy: 0.96344 || Validation Loss: 0.16731 Validation Accuracy: 0.93500\n",
      "====================================================================================================\n",
      "Epoch[51/100] - Train loss: 0.09000 Train Accucracy: 0.96062 || Validation Loss: 0.17985 Validation Accuracy: 0.93125\n",
      "====================================================================================================\n",
      "Epoch[52/100] - Train loss: 0.08926 Train Accucracy: 0.96000 || Validation Loss: 0.16756 Validation Accuracy: 0.93750\n",
      "====================================================================================================\n",
      "Epoch[53/100] - Train loss: 0.09009 Train Accucracy: 0.96437 || Validation Loss: 0.16402 Validation Accuracy: 0.93625\n",
      "====================================================================================================\n",
      "Epoch[54/100] - Train loss: 0.08913 Train Accucracy: 0.95906 || Validation Loss: 0.17205 Validation Accuracy: 0.93375\n",
      "====================================================================================================\n",
      "Epoch[55/100] - Train loss: 0.08490 Train Accucracy: 0.96000 || Validation Loss: 0.16973 Validation Accuracy: 0.93750\n",
      "====================================================================================================\n",
      "Epoch[56/100] - Train loss: 0.08305 Train Accucracy: 0.96531 || Validation Loss: 0.17067 Validation Accuracy: 0.93625\n",
      "====================================================================================================\n",
      "Epoch[57/100] - Train loss: 0.08296 Train Accucracy: 0.96094 || Validation Loss: 0.17328 Validation Accuracy: 0.93500\n",
      "====================================================================================================\n",
      "Early stopping: Epoch - 56\n",
      "38.12863826751709 초\n"
     ]
    }
   ],
   "source": [
    "train_loss_list, train_acc_list, valid_loss_list, valid_acc_list = fit(\n",
    "    train_loader, valid_loader, # dataLoader\n",
    "    dout_model, loss_fn, optimizer, \n",
    "    epochs,\n",
    "    save_model_path=\"model/dout_model.pt\",\n",
    "    patience=10,\n",
    "    device=device,\n",
    "    mode='binary'\n",
    ")"
   ]
  },
  {
   "cell_type": "code",
   "execution_count": 17,
   "id": "3f078a19-72f2-4dcb-9025-e1cbb0008fbc",
   "metadata": {},
   "outputs": [
    {
     "data": {
      "image/png": "[encoded data removed]",
      "text/plain": [
       "<Figure size 1000x500 with 2 Axes>"
      ]
     },
     "metadata": {},
     "output_type": "display_data"
    }
   ],
   "source": [
    "plt.figure(figsize=(10, 5))\n",
    "plt.subplot(1, 2, 1)\n",
    "plt.plot(train_loss_list, label=\"Train set\")\n",
    "plt.plot(valid_loss_list, label=\"Validation set\")\n",
    "plt.title(\"loss\")\n",
    "plt.grid(True, linestyle=\":\")\n",
    "plt.legend()\n",
    "\n",
    "plt.subplot(1, 2, 2)\n",
    "plt.plot( valid_acc_list)\n",
    "plt.title(\"Validation accuracy\")\n",
    "plt.grid(True, linestyle=\":\")\n",
    "\n",
    "plt.tight_layout()\n",
    "plt.show()"
   ]
  },
  {
   "cell_type": "code",
   "execution_count": 18,
   "id": "4d5c62a2-6ecc-4318-9eff-3c67759b6d50",
   "metadata": {},
   "outputs": [
    {
     "name": "stdout",
     "output_type": "stream",
     "text": [
      "Model output: tensor([[10.1137]], grad_fn=<AddmmBackward0>)\n"
     ]
    }
   ],
   "source": [
    "# 임의의 입력값 생성 (13개의 특성)\n",
    "random_input = torch.tensor(np.random.randn(1, 13), dtype=torch.float32)\n",
    "\n",
    "# 모델에 입력값 통과시켜서 결과 얻기\n",
    "output = dout_model( random_input)\n",
    "\n",
    "# 출력 결과 확인\n",
    "print(\"Model output:\", output)"
   ]
  },
  {
   "cell_type": "code",
   "execution_count": 19,
   "id": "908be6b4-e883-49a0-9443-fbfaa2dc703e",
   "metadata": {},
   "outputs": [
    {
     "name": "stdout",
     "output_type": "stream",
     "text": [
      "              precision    recall  f1-score   support\n",
      "\n",
      "         0.0       0.93      0.98      0.96       598\n",
      "         1.0       0.95      0.79      0.86       202\n",
      "\n",
      "    accuracy                           0.94       800\n",
      "   macro avg       0.94      0.89      0.91       800\n",
      "weighted avg       0.94      0.94      0.93       800\n",
      "\n"
     ]
    }
   ],
   "source": [
    "dout_model.eval()\n",
    "with torch.no_grad():\n",
    "    y_pred = dout_model(X_valid)\n",
    "    y_pred_class = (y_pred > 0.5).float()\n",
    "    print(classification_report(y_valid, y_pred_class))"
   ]
  },
  {
   "cell_type": "code",
   "execution_count": null,
   "id": "fea55049-3f1c-4a1b-badf-0ba62da6ecb7",
   "metadata": {},
   "outputs": [],
   "source": []
  },
  {
   "cell_type": "code",
   "execution_count": null,
   "id": "cf4b0e97-88bc-44ac-954d-2977c1d22387",
   "metadata": {},
   "outputs": [],
   "source": []
  }
 ],
 "metadata": {
  "kernelspec": {
   "display_name": "Python 3 (ipykernel)",
   "language": "python",
   "name": "python3"
  },
  "language_info": {
   "codemirror_mode": {
    "name": "ipython",
    "version": 3
   },
   "file_extension": ".py",
   "mimetype": "text/x-python",
   "name": "python",
   "nbconvert_exporter": "python",
   "pygments_lexer": "ipython3",
   "version": "3.12.7"
  }
 },
 "nbformat": 4,
 "nbformat_minor": 5
}
