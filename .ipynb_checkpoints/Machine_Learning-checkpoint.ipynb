{
 "cells": [
  {
   "cell_type": "code",
   "execution_count": 1,
   "id": "ba57934e-7f2f-4513-972d-e938053c8ee5",
   "metadata": {},
   "outputs": [],
   "source": [
    "import pandas as pd\n",
    "import numpy as np\n",
    "\n",
    "from sklearn.model_selection import train_test_split\n",
    "from sklearn.ensemble import GradientBoostingClassifier, RandomForestClassifier\n",
    "from sklearn.neighbors import KNeighborsClassifier\n",
    "from xgboost import XGBClassifier\n",
    "from sklearn.metrics import accuracy_score, precision_score, recall_score, f1_score, roc_auc_score\n",
    "\n",
    "from sklearn.model_selection import RandomizedSearchCV\n",
    "from sklearn.model_selection import GridSearchCV\n",
    "\n",
    "import joblib\n"
   ]
  },
  {
   "cell_type": "code",
   "execution_count": 2,
   "id": "76824ef2-2481-4831-a7f7-32ea4ee4c6ee",
   "metadata": {},
   "outputs": [
    {
     "name": "stdout",
     "output_type": "stream",
     "text": [
      "<class 'pandas.core.frame.DataFrame'>\n",
      "RangeIndex: 4000 entries, 0 to 3999\n",
      "Data columns (total 10 columns):\n",
      " #   Column                        Non-Null Count  Dtype  \n",
      "---  ------                        --------------  -----  \n",
      " 0   gender                        4000 non-null   int64  \n",
      " 1   Near_Location                 4000 non-null   int64  \n",
      " 2   Partner                       4000 non-null   int64  \n",
      " 3   Promo_friends                 4000 non-null   int64  \n",
      " 4   Contract_period               4000 non-null   int64  \n",
      " 5   Group_visits                  4000 non-null   int64  \n",
      " 6   Age                           4000 non-null   int64  \n",
      " 7   Avg_additional_charges_total  4000 non-null   float64\n",
      " 8   Lifetime                      4000 non-null   int64  \n",
      " 9   Avg_class_frequency_total     4000 non-null   float64\n",
      "dtypes: float64(2), int64(8)\n",
      "memory usage: 312.6 KB\n",
      "None\n",
      "[0.73475 0.26525]\n",
      "[0.73466667 0.26533333]\n",
      "[0.735 0.265]\n"
     ]
    }
   ],
   "source": [
    "# 데이터 로드\n",
    "df = pd.read_csv('Data/gym_churn_us.csv')\n",
    "# X, y 분할\n",
    "X = df.drop(columns=['Churn', 'Phone', 'Month_to_end_contract', 'Avg_class_frequency_current_month'])\n",
    "y = df['Churn']\n",
    "print(X.info())\n",
    "# print(y.info())\n",
    "\n",
    "# train, valid 분할 \n",
    "X_train, X_valid, y_train, y_valid = train_test_split(X, y, test_size=0.25, stratify=y, random_state=0)\n",
    "# print(X_trian.shape, X_valid.shape, y_train.shape, y_valid.shape)\n",
    "\n",
    "# 비율 확인 (이탈 N / Y)\n",
    "print(np.unique(y, return_counts=True)[1]/y.size)\n",
    "print(np.unique(y_train, return_counts=True)[1]/y_train.size)\n",
    "print(np.unique(y_valid, return_counts=True)[1]/y_valid.size)"
   ]
  },
  {
   "cell_type": "code",
   "execution_count": 3,
   "id": "8a4a71f0-b931-43db-a723-e4be44f28f24",
   "metadata": {},
   "outputs": [
    {
     "data": {
      "text/html": [
       "<div>\n",
       "<style scoped>\n",
       "    .dataframe tbody tr th:only-of-type {\n",
       "        vertical-align: middle;\n",
       "    }\n",
       "\n",
       "    .dataframe tbody tr th {\n",
       "        vertical-align: top;\n",
       "    }\n",
       "\n",
       "    .dataframe thead th {\n",
       "        text-align: right;\n",
       "    }\n",
       "</style>\n",
       "<table border=\"1\" class=\"dataframe\">\n",
       "  <thead>\n",
       "    <tr style=\"text-align: right;\">\n",
       "      <th></th>\n",
       "      <th>GB</th>\n",
       "      <th>RF</th>\n",
       "      <th>KNN</th>\n",
       "      <th>XGB</th>\n",
       "    </tr>\n",
       "  </thead>\n",
       "  <tbody>\n",
       "    <tr>\n",
       "      <th>accuracy</th>\n",
       "      <td>0.899000</td>\n",
       "      <td>0.888000</td>\n",
       "      <td>0.857000</td>\n",
       "      <td>0.888000</td>\n",
       "    </tr>\n",
       "    <tr>\n",
       "      <th>precision</th>\n",
       "      <td>0.833333</td>\n",
       "      <td>0.804781</td>\n",
       "      <td>0.731061</td>\n",
       "      <td>0.802372</td>\n",
       "    </tr>\n",
       "    <tr>\n",
       "      <th>recall</th>\n",
       "      <td>0.773585</td>\n",
       "      <td>0.762264</td>\n",
       "      <td>0.728302</td>\n",
       "      <td>0.766038</td>\n",
       "    </tr>\n",
       "    <tr>\n",
       "      <th>f1</th>\n",
       "      <td>0.802348</td>\n",
       "      <td>0.782946</td>\n",
       "      <td>0.729679</td>\n",
       "      <td>0.783784</td>\n",
       "    </tr>\n",
       "    <tr>\n",
       "      <th>roc-auc</th>\n",
       "      <td>0.954614</td>\n",
       "      <td>0.942685</td>\n",
       "      <td>0.876360</td>\n",
       "      <td>0.944777</td>\n",
       "    </tr>\n",
       "  </tbody>\n",
       "</table>\n",
       "</div>"
      ],
      "text/plain": [
       "                 GB        RF       KNN       XGB\n",
       "accuracy   0.899000  0.888000  0.857000  0.888000\n",
       "precision  0.833333  0.804781  0.731061  0.802372\n",
       "recall     0.773585  0.762264  0.728302  0.766038\n",
       "f1         0.802348  0.782946  0.729679  0.783784\n",
       "roc-auc    0.954614  0.942685  0.876360  0.944777"
      ]
     },
     "execution_count": 3,
     "metadata": {},
     "output_type": "execute_result"
    }
   ],
   "source": [
    "# 베이스라인 모델 학습 (Gradient Boosting, RandomForest, KNN, XGBoosting) \n",
    "\n",
    "models = [\n",
    "    (\"GB\", GradientBoostingClassifier(random_state=0)),\n",
    "    (\"RF\", RandomForestClassifier(random_state=0)),\n",
    "    (\"KNN\", KNeighborsClassifier()),\n",
    "    (\"XGB\", XGBClassifier(random_state=0))\n",
    "]\n",
    "\n",
    "baseline_result_valid = {}\n",
    "\n",
    "for name, model in models:\n",
    "    model.fit(X_train, y_train)\n",
    "    \n",
    "    pred_valid = model.predict(X_valid)\n",
    "    pred_proba_valid = model.predict_proba(X_valid)[:, 1]\n",
    "\n",
    "    accuracy_valid = accuracy_score(y_valid, pred_valid)\n",
    "    precision_valid = precision_score(y_valid, pred_valid)\n",
    "    recall_valid = recall_score(y_valid, pred_valid)\n",
    "    f1_valid = f1_score(y_valid, pred_valid)\n",
    "    roc_auc_valid = roc_auc_score(y_valid, pred_proba_valid)\n",
    "    \n",
    "    baseline_result_valid[name] = [accuracy_valid, precision_valid, recall_valid, f1_valid, roc_auc_valid]\n",
    "\n",
    "pd.DataFrame(baseline_result_valid, index=['accuracy', 'precision', 'recall', 'f1', 'roc-auc'])"
   ]
  },
  {
   "cell_type": "code",
   "execution_count": 4,
   "id": "520eb715-f5b5-4675-8f4c-146eaa9dba57",
   "metadata": {},
   "outputs": [],
   "source": [
    "# 모델 튜닝, 학습, 저 함수 (파라미터 수에 따라, Grid Search 또는 Randomized Search 사용)\n",
    "def cv(t, model, params):\n",
    "    if t == 'grid':\n",
    "        cv = GridSearchCV(\n",
    "            estimator=model,\n",
    "            param_grid=params,\n",
    "            scoring='roc_auc',\n",
    "            cv=4,\n",
    "            n_jobs=-1\n",
    "        )\n",
    "    elif t == 'rand':\n",
    "        cv = RandomizedSearchCV(\n",
    "            model, params, \n",
    "            cv=4, \n",
    "            scoring='roc_auc', \n",
    "            n_jobs=-1, \n",
    "            n_iter=60, \n",
    "            random_state=0\n",
    "        )\n",
    "\n",
    "    cv.fit(X_train, y_train)\n",
    "    print('Best Parameters:', cv.best_params_)\n",
    "    print('Best Estimator:', cv.best_estimator_)\n",
    "    print('Best Score:', cv.best_score_)\n",
    "    \n",
    "    best_model = cv.best_estimator_\n",
    "    \n",
    "    pred_train = best_model.predict(X_train)\n",
    "    pred_test = best_model.predict(X_valid)\n",
    "    \n",
    "    pred_train_proba = best_model.predict_proba(X_train)\n",
    "    pred_valid_proba = best_model.predict_proba(X_valid)\n",
    "    \n",
    "    train_score = roc_auc_score(y_train, pred_train_proba[:,1])\n",
    "    valid_score = roc_auc_score(y_valid, pred_valid_proba[:,1])\n",
    "    \n",
    "    print('Train Score:', train_score)\n",
    "    print('Valid Score:', valid_score)\n",
    "    return best_model\n"
   ]
  },
  {
   "cell_type": "code",
   "execution_count": 5,
   "id": "81a3d82f-fce1-46f0-81bd-11da833e524d",
   "metadata": {},
   "outputs": [
    {
     "name": "stderr",
     "output_type": "stream",
     "text": [
      "C:\\Users\\Playdata\\miniconda3\\envs\\ml\\Lib\\site-packages\\numpy\\ma\\core.py:2881: RuntimeWarning: invalid value encountered in cast\n",
      "  _data = np.array(data, dtype=dtype, copy=copy,\n"
     ]
    },
    {
     "name": "stdout",
     "output_type": "stream",
     "text": [
      "Best Parameters: {'max_depth': 7, 'n_estimators': 300}\n",
      "Best Estimator: RandomForestClassifier(max_depth=7, n_estimators=300, random_state=0)\n",
      "Best Score: 0.9547168692828936\n",
      "Train Score: 0.9802010278251512\n",
      "Valid Score: 0.9508150429983315\n"
     ]
    },
    {
     "data": {
      "text/plain": [
       "['models/best_rf.pkl']"
      ]
     },
     "execution_count": 5,
     "metadata": {},
     "output_type": "execute_result"
    }
   ],
   "source": [
    "# RandomForest Grid Search\n",
    "model_rf = RandomForestClassifier(random_state=0)\n",
    "\n",
    "params_rf = {\n",
    "    'n_estimators': [100, 200, 300, 400, 500, 600, 700],\n",
    "    'max_depth': [2, 3, 4, 5, 6, 7],\n",
    "}\n",
    "\n",
    "best_rf = cv('grid', model_rf, params_rf)\n",
    "joblib.dump(best_rf, 'models/best_rf.pkl')\n"
   ]
  },
  {
   "cell_type": "code",
   "execution_count": 6,
   "id": "b41ac0bb-31ef-47ed-9ce8-57f65ce8171d",
   "metadata": {
    "scrolled": true
   },
   "outputs": [
    {
     "name": "stdout",
     "output_type": "stream",
     "text": [
      "Best Parameters: {'subsample': 1, 'n_estimators': 4000, 'max_depth': 1, 'learning_rate': 0.01}\n",
      "Best Estimator: GradientBoostingClassifier(learning_rate=0.01, max_depth=1, n_estimators=4000,\n",
      "                           random_state=0, subsample=1)\n",
      "Best Score: 0.9591571742560352\n",
      "Train Score: 0.9665298475134291\n",
      "Valid Score: 0.9539211911179566\n"
     ]
    },
    {
     "data": {
      "text/plain": [
       "['models/best_gb.pkl']"
      ]
     },
     "execution_count": 6,
     "metadata": {},
     "output_type": "execute_result"
    }
   ],
   "source": [
    "# Gradient Boosting Randomized Search\n",
    "\n",
    "model_gb = GradientBoostingClassifier(random_state=0)\n",
    "\n",
    "params_gb = {\n",
    "    'learning_rate': [0.001, 0.01, 0.1, 0.2],\n",
    "    'n_estimators': [1000, 2000, 3000, 4000, 5000],\n",
    "    'max_depth': range(1, 6),\n",
    "    'subsample': [0.5, 0.6, 0.7, 0.8, 0.9, 1]\n",
    "}\n",
    "\n",
    "best_gb = cv('rand', model_gb, params_gb)\n",
    "joblib.dump(best_gb, 'models/best_gb.pkl')\n"
   ]
  },
  {
   "cell_type": "code",
   "execution_count": 7,
   "id": "d845cda2-9466-4f28-915c-800323575529",
   "metadata": {},
   "outputs": [
    {
     "name": "stdout",
     "output_type": "stream",
     "text": [
      "Best Parameters: {'subsample': 1, 'n_estimators': 4000, 'max_depth': 1, 'learning_rate': 0.01}\n",
      "Best Estimator: XGBClassifier(base_score=None, booster=None, callbacks=None,\n",
      "              colsample_bylevel=None, colsample_bynode=None,\n",
      "              colsample_bytree=None, device=None, early_stopping_rounds=None,\n",
      "              enable_categorical=False, eval_metric=None, feature_types=None,\n",
      "              gamma=None, grow_policy=None, importance_type=None,\n",
      "              interaction_constraints=None, learning_rate=0.01, max_bin=None,\n",
      "              max_cat_threshold=None, max_cat_to_onehot=None,\n",
      "              max_delta_step=None, max_depth=1, max_leaves=None,\n",
      "              min_child_weight=None, missing=nan, monotone_constraints=None,\n",
      "              multi_strategy=None, n_estimators=4000, n_jobs=None,\n",
      "              num_parallel_tree=None, random_state=0, ...)\n",
      "Best Score: 0.9601808954026029\n",
      "Train Score: 0.9663768023420187\n",
      "Valid Score: 0.9550378642022846\n"
     ]
    },
    {
     "data": {
      "text/plain": [
       "['models/best_xgb.pkl']"
      ]
     },
     "execution_count": 7,
     "metadata": {},
     "output_type": "execute_result"
    }
   ],
   "source": [
    "# XGBoosting Randomized Search\n",
    "\n",
    "model_xgb = XGBClassifier(random_state=0)\n",
    "\n",
    "params_xgb = {\n",
    "    'learning_rate': [0.001, 0.01, 0.1, 0.2],\n",
    "    'n_estimators': [1000, 2000, 3000, 4000, 5000],\n",
    "    'max_depth': range(1, 6),\n",
    "    'subsample': [0.5, 0.6, 0.7, 0.8, 0.9, 1]\n",
    "}\n",
    "\n",
    "best_xgb = cv('rand', model_xgb, params_xgb)\n",
    "joblib.dump(best_xgb, 'models/best_xgb.pkl')\n"
   ]
  },
  {
   "cell_type": "code",
   "execution_count": 10,
   "id": "7d918e67-86e2-40ca-a028-2499b75ee945",
   "metadata": {},
   "outputs": [
    {
     "name": "stdout",
     "output_type": "stream",
     "text": [
      "Lifetime : 0.37678197\n",
      "Contract_period : 0.28499743\n",
      "Age : 0.13168238\n",
      "Avg_class_frequency_total : 0.07265435\n",
      "Avg_additional_charges_total : 0.049443886\n",
      "Group_visits : 0.047559522\n",
      "Promo_friends : 0.022872498\n",
      "Near_Location : 0.014007936\n",
      "gender : 0.0\n",
      "Partner : 0.0\n"
     ]
    }
   ],
   "source": [
    "model = joblib.load(\"Models/best_xgb.pkl\")\n",
    "fi = pd.Series(model.feature_importances_).sort_values(ascending=False)\n",
    "fi = fi.to_frame().reset_index(drop=False)\n",
    "a = fi['index']\n",
    "b = fi[0]\n",
    "col = list(X.columns.values)\n",
    "for i in range(10):\n",
    "    print(col[a[i]], \":\", b[i])\n",
    "# print(X.info())"
   ]
  },
  {
   "cell_type": "code",
   "execution_count": 15,
   "id": "5a3f9cb2-89c5-46df-9635-1aa11321a4e4",
   "metadata": {},
   "outputs": [
    {
     "name": "stdout",
     "output_type": "stream",
     "text": [
      "<class 'pandas.core.frame.DataFrame'>\n",
      "RangeIndex: 20 entries, 0 to 19\n",
      "Data columns (total 10 columns):\n",
      " #   Column                        Non-Null Count  Dtype  \n",
      "---  ------                        --------------  -----  \n",
      " 0   gender                        20 non-null     int64  \n",
      " 1   Near_Location                 20 non-null     int64  \n",
      " 2   Partner                       20 non-null     int64  \n",
      " 3   Promo_friends                 20 non-null     int64  \n",
      " 4   Contract_period               20 non-null     int64  \n",
      " 5   Group_visits                  20 non-null     int64  \n",
      " 6   Age                           20 non-null     int64  \n",
      " 7   Avg_additional_charges_total  20 non-null     float64\n",
      " 8   Lifetime                      20 non-null     int64  \n",
      " 9   Avg_class_frequency_total     20 non-null     float64\n",
      "dtypes: float64(2), int64(8)\n",
      "memory usage: 1.7 KB\n",
      "None\n"
     ]
    }
   ],
   "source": [
    "# 데이터 로드\n",
    "df = pd.read_csv('Data/gym_churn_sample.csv')\n",
    "# X, y 분할\n",
    "X = df.drop(columns=['Churn', 'Phone', 'Month_to_end_contract', 'Avg_class_frequency_current_month'])\n",
    "y = df['Churn']\n",
    "print(X.info())"
   ]
  },
  {
   "cell_type": "code",
   "execution_count": 16,
   "id": "c8130d94-6d22-45c9-b8a5-0647b9bdd945",
   "metadata": {},
   "outputs": [],
   "source": [
    "model = joblib.load('models/best_xgb.pkl')"
   ]
  },
  {
   "cell_type": "code",
   "execution_count": 17,
   "id": "702d6e2b-a64b-4cb6-89fe-3905335022b6",
   "metadata": {},
   "outputs": [],
   "source": [
    "pred = model.predict(X)"
   ]
  },
  {
   "cell_type": "code",
   "execution_count": 18,
   "id": "43647d10-3b88-414d-950c-7dec50e8e3dc",
   "metadata": {},
   "outputs": [
    {
     "data": {
      "text/plain": [
       "array([0, 0, 1, 0, 0, 0, 0, 0, 0, 0, 0, 0, 0, 0, 0, 0, 0, 0, 0, 1])"
      ]
     },
     "execution_count": 18,
     "metadata": {},
     "output_type": "execute_result"
    }
   ],
   "source": [
    "pred"
   ]
  },
  {
   "cell_type": "code",
   "execution_count": 19,
   "id": "a63e8cf9-4566-42b5-b330-a92cc514bde5",
   "metadata": {},
   "outputs": [
    {
     "data": {
      "text/plain": [
       "0     0\n",
       "1     0\n",
       "2     0\n",
       "3     0\n",
       "4     0\n",
       "5     0\n",
       "6     0\n",
       "7     0\n",
       "8     0\n",
       "9     0\n",
       "10    0\n",
       "11    0\n",
       "12    0\n",
       "13    1\n",
       "14    0\n",
       "15    0\n",
       "16    0\n",
       "17    0\n",
       "18    0\n",
       "19    1\n",
       "Name: Churn, dtype: int64"
      ]
     },
     "execution_count": 19,
     "metadata": {},
     "output_type": "execute_result"
    }
   ],
   "source": [
    "y"
   ]
  },
  {
   "cell_type": "code",
   "execution_count": 20,
   "id": "a64e2e93-4b97-4c1f-b24a-ec9100bdf150",
   "metadata": {},
   "outputs": [],
   "source": [
    "pred_proba = model.predict_proba(X)"
   ]
  },
  {
   "cell_type": "code",
   "execution_count": 21,
   "id": "2c5f928f-a760-4895-98db-bdb88d929461",
   "metadata": {},
   "outputs": [
    {
     "data": {
      "text/plain": [
       "array([[9.5015842e-01, 4.9841568e-02],\n",
       "       [9.9961537e-01, 3.8464557e-04],\n",
       "       [3.5418630e-01, 6.4581370e-01],\n",
       "       [9.9976838e-01, 2.3163031e-04],\n",
       "       [9.9791932e-01, 2.0806785e-03],\n",
       "       [8.8658261e-01, 1.1341736e-01],\n",
       "       [9.9870986e-01, 1.2901254e-03],\n",
       "       [9.4080824e-01, 5.9191741e-02],\n",
       "       [9.2832935e-01, 7.1670637e-02],\n",
       "       [6.0618842e-01, 3.9381155e-01],\n",
       "       [9.9738795e-01, 2.6120637e-03],\n",
       "       [9.9516219e-01, 4.8378347e-03],\n",
       "       [9.8681474e-01, 1.3185289e-02],\n",
       "       [6.3931137e-01, 3.6068863e-01],\n",
       "       [9.8650402e-01, 1.3495977e-02],\n",
       "       [9.9529535e-01, 4.7046267e-03],\n",
       "       [9.9999291e-01, 7.0671690e-06],\n",
       "       [9.9551511e-01, 4.4849003e-03],\n",
       "       [9.8200154e-01, 1.7998435e-02],\n",
       "       [3.1095326e-02, 9.6890467e-01]], dtype=float32)"
      ]
     },
     "execution_count": 21,
     "metadata": {},
     "output_type": "execute_result"
    }
   ],
   "source": [
    "pred_proba"
   ]
  },
  {
   "cell_type": "code",
   "execution_count": null,
   "id": "e50789d2-37f5-4c63-8e8f-88a0b4648cc4",
   "metadata": {},
   "outputs": [],
   "source": []
  }
 ],
 "metadata": {
  "kernelspec": {
   "display_name": "Python 3 (ipykernel)",
   "language": "python",
   "name": "python3"
  },
  "language_info": {
   "codemirror_mode": {
    "name": "ipython",
    "version": 3
   },
   "file_extension": ".py",
   "mimetype": "text/x-python",
   "name": "python",
   "nbconvert_exporter": "python",
   "pygments_lexer": "ipython3",
   "version": "3.12.7"
  }
 },
 "nbformat": 4,
 "nbformat_minor": 5
}
